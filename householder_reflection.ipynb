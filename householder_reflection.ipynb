v=np.array([3,4])

e1 = np.zeros_like(v)
e1[0] = 1
vector = get_norm(v) * e1
if v[0] < 0:
    vector = - vector
#u = (v + vector).astype(np.float32)
u = (v-vector) / get_norm(v-vector)
H = np.identity(v.size) - 2*(np.dot(np.reshape(u,(-1,1)),np.reshape(u,(1,-1))))

print("original vector:",v)
print("reflected vector:",vector)
print("matrix:\n",H)

print("H*original:",np.dot(H,v))
print("H*reflected:",np.dot(H,vector))
